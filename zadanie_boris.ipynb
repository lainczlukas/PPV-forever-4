{
 "cells": [
  {
   "cell_type": "code",
   "execution_count": 563,
   "metadata": {},
   "outputs": [],
   "source": [
    "import laspy\n",
    "import numpy as np\n",
    "import matplotlib.pyplot as plt\n",
    "import open3d as o3d\n",
    "import random"
   ]
  },
  {
   "cell_type": "code",
   "execution_count": 564,
   "metadata": {},
   "outputs": [
    {
     "name": "stdout",
     "output_type": "stream",
     "text": [
      "['X', 'Y', 'Z', 'intensity', 'return_number', 'number_of_returns', 'synthetic', 'key_point', 'withheld', 'overlap', 'scanner_channel', 'scan_direction_flag', 'edge_of_flight_line', 'classification', 'user_data', 'scan_angle', 'point_source_id', 'gps_time']\n",
      "{1, 2, 3, 4, 5, 6, 7, 18}\n",
      "727756\n"
     ]
    }
   ],
   "source": [
    "las = laspy.read('banska5.las')\n",
    "\n",
    "print(list(las.point_format.dimension_names))\n",
    "print(set(list(las.classification)))\n",
    "\n",
    "vsetky_data = np.stack([las.X,las.Y,las.Z], axis = 0).transpose((1,0))\n",
    "geom = o3d.geometry.PointCloud()\n",
    "geom.points = o3d.utility.Vector3dVector(vsetky_data)\n",
    "print(len(np.array(geom.points)))\n",
    "o3d.visualization.draw_geometries([geom])"
   ]
  },
  {
   "cell_type": "code",
   "execution_count": 565,
   "metadata": {},
   "outputs": [],
   "source": [
    "las = las[las.classification == 5] # stromy\n",
    "stromy = np.stack([las.X,las.Y,las.intensity], axis = 0).transpose((1,0))\n",
    "geom.points = o3d.utility.Vector3dVector(stromy)\n",
    "o3d.visualization.draw_geometries([geom])"
   ]
  },
  {
   "cell_type": "code",
   "execution_count": 566,
   "metadata": {},
   "outputs": [],
   "source": [
    "geom = geom.remove_radius_outlier(3,1000)[0]\n",
    "o3d.visualization.draw_geometries([geom])"
   ]
  },
  {
   "cell_type": "code",
   "execution_count": 567,
   "metadata": {},
   "outputs": [
    {
     "data": {
      "text/plain": [
       "'\\nnajlepsie = 100000000\\npocet_bodov = len(np.array(geom.points))\\nprint(pocet_bodov)\\npocet_tried = pocet_bodov\\nminus_jednotky_v_triedach = True\\nwhile  najlepsie!=0 and pocet_tried>pocet_bodov //10:\\n    nedefinovane = najlepsie\\n    eps = random.randint(10,500)\\n    min_points = random.randint(1,30)\\n    labels = np.array(geom.cluster_dbscan(eps, min_points))\\n    nedefinovane = labels.tolist().count(-1)\\n    pocet_tried = len(set(labels))\\n    if nedefinovane < najlepsie:\\n        najlepsie = nedefinovane\\n        print(najlepsie)\\n'"
      ]
     },
     "execution_count": 567,
     "metadata": {},
     "output_type": "execute_result"
    }
   ],
   "source": [
    "\"\"\"\n",
    "najlepsie = 100000000\n",
    "pocet_bodov = len(np.array(geom.points))\n",
    "print(pocet_bodov)\n",
    "pocet_tried = pocet_bodov\n",
    "minus_jednotky_v_triedach = True\n",
    "while  najlepsie!=0 and pocet_tried>pocet_bodov //10:\n",
    "    nedefinovane = najlepsie\n",
    "    eps = random.randint(10,500)\n",
    "    min_points = random.randint(1,30)\n",
    "    labels = np.array(geom.cluster_dbscan(eps, min_points))\n",
    "    nedefinovane = labels.tolist().count(-1)\n",
    "    pocet_tried = len(set(labels))\n",
    "    if nedefinovane < najlepsie:\n",
    "        najlepsie = nedefinovane\n",
    "        print(najlepsie)\n",
    "\"\"\""
   ]
  },
  {
   "cell_type": "code",
   "execution_count": 568,
   "metadata": {},
   "outputs": [
    {
     "name": "stdout",
     "output_type": "stream",
     "text": [
      "POCET BODOV V STROMOCH: 33514\n",
      "282 1\n"
     ]
    },
    {
     "data": {
      "text/plain": [
       "array([  0,   0,   0, ..., 227, 228, 229], dtype=int32)"
      ]
     },
     "execution_count": 568,
     "metadata": {},
     "output_type": "execute_result"
    }
   ],
   "source": [
    "print(\"POCET BODOV V STROMOCH:\",len(np.array(geom.points)))\n",
    "while True:\n",
    "    eps = random.randint(100,300)\n",
    "    min_points = random.randint(1,20)\n",
    "    labels = np.array(geom.cluster_dbscan(eps, min_points))\n",
    "    pocet_minus_jednotiek_v_triedach = labels.tolist().count(-1)\n",
    "    minus_jednotky_v_triedach = labels.tolist().count(-1) > 0\n",
    "    pocet_tried = len(set(labels))\n",
    "    pocty_bodov_v_triedach = [np.count_nonzero(labels == x) for x in set(labels)]\n",
    "    if minus_jednotky_v_triedach == False and  pocet_tried < len(np.array(geom.points)) // 100:\n",
    "    #if minus_jednotky_v_triedach == False and  min(pocty_bodov_v_triedach) >=3:\n",
    "    #if pocet_minus_jednotiek_v_triedach< len(np.array(geom.points)) // 10  and pocet_tried < len(np.array(geom.points)) // 100 and min(pocty_bodov_v_triedach) >=10:\n",
    "        break\n",
    "print(eps, min_points)\n",
    "labels"
   ]
  },
  {
   "cell_type": "code",
   "execution_count": 569,
   "metadata": {},
   "outputs": [],
   "source": [
    "#ODSTRAN -1 a oprav indexy labelov\n",
    "#outlayer_indexes = [x for x in labels if x == -1]\n",
    "#labels = np.array([x for index,x in enumerate(labels) if index not in outlayer_indexes])\n",
    "#geom.points = o3d.utility.Vector3dVector(np.array([x for index,x in enumerate(np.array(geom.points)) if index not in outlayer_indexes]))"
   ]
  },
  {
   "cell_type": "code",
   "execution_count": 570,
   "metadata": {},
   "outputs": [
    {
     "name": "stdout",
     "output_type": "stream",
     "text": [
      "33514\n",
      "33514\n",
      "33408\n",
      "33408\n"
     ]
    }
   ],
   "source": [
    "#ODSTRAN male clustre\n",
    "print(len(np.array(geom.points)))\n",
    "print(len(labels))\n",
    "\n",
    "\n",
    "outlayer_indexes = [index for index,x in enumerate(labels) if np.count_nonzero(labels ==x)<3]\n",
    "labels = np.array([x for index,x in enumerate(labels) if index not in outlayer_indexes])\n",
    "\n",
    "\n",
    "a = np.array(geom.points)\n",
    "b  = np.array([x for index,x in enumerate(np.array(geom.points)) if index not in outlayer_indexes])\n",
    "geom.points = o3d.utility.Vector3dVector(b)\n",
    "print(len(np.array(geom.points)))\n",
    "print(len(labels))\n"
   ]
  },
  {
   "cell_type": "code",
   "execution_count": 571,
   "metadata": {},
   "outputs": [],
   "source": [
    "if -1 in labels:\n",
    "    raise Exception(\"-1\")"
   ]
  },
  {
   "cell_type": "code",
   "execution_count": 572,
   "metadata": {},
   "outputs": [],
   "source": [
    "#KAZDY CLUSTER INA FARBA\n",
    "random_colors = []\n",
    "for label in labels:\n",
    "    if label == -1:\n",
    "        random_colors.append([0,0,0])\n",
    "    else:    \n",
    "        random_colors.append([random.random()*0.8 +0.2,random.random()*0.8 +0.2,random.random()*0.8 +0.2])\n",
    "colors = [random_colors[x] for x in labels]\n",
    "geom.colors = o3d.utility.Vector3dVector(colors)\n",
    "o3d.visualization.draw_geometries([geom])"
   ]
  },
  {
   "cell_type": "code",
   "execution_count": 573,
   "metadata": {},
   "outputs": [
    {
     "data": {
      "image/png": "[encoded data removed]",
      "text/plain": [
       "<Figure size 640x480 with 1 Axes>"
      ]
     },
     "metadata": {},
     "output_type": "display_data"
    }
   ],
   "source": [
    "# POCTY BODOV V ZHLUKOCH BEZ ZHLUKU -1\n",
    "pocty = []\n",
    "for i in set(labels):\n",
    "   pocty.append((i, labels.tolist().count(i)))\n",
    "plt.figure()\n",
    "plt.plot([x for x in range(len(pocty))],[x[1] for x in pocty])\n",
    "plt.show()"
   ]
  },
  {
   "cell_type": "code",
   "execution_count": 574,
   "metadata": {},
   "outputs": [],
   "source": [
    "# CLUSTRE S POCTOM BODOV VACSIM AKO PRIEMER\n",
    "najvacsie_po_najmensie = sorted(pocty,key=lambda x: x[1],reverse=True)\n",
    "hodnoty_najvacsie_po_najmensie = [x[1] for x in najvacsie_po_najmensie]\n",
    "priemer = np.average(hodnoty_najvacsie_po_najmensie) \n",
    "nadpriemerne_indexy_tried = [x[0] for x in najvacsie_po_najmensie if x[1] > priemer*2]\n",
    "nadpriemerne_body = []\n",
    "for index,bod in enumerate(np.array(geom.points)):\n",
    "    if labels[index] in nadpriemerne_indexy_tried:\n",
    "        nadpriemerne_body.append(bod)\n",
    "geom.points = o3d.utility.Vector3dVector(nadpriemerne_body)\n",
    "o3d.visualization.draw_geometries([geom])\n"
   ]
  },
  {
   "cell_type": "code",
   "execution_count": 575,
   "metadata": {},
   "outputs": [
    {
     "name": "stdout",
     "output_type": "stream",
     "text": [
      "11\n",
      "6\n",
      "2467\n"
     ]
    },
    {
     "name": "stderr",
     "output_type": "stream",
     "text": [
      "C:\\Users\\hanus\\AppData\\Local\\Temp\\ipykernel_12520\\131246805.py:10: DeprecationWarning: elementwise comparison failed; this will raise an error in the future.\n",
      "  najvacsie_clustre.remove(cluster)\n"
     ]
    },
    {
     "name": "stdout",
     "output_type": "stream",
     "text": [
      "2467\n",
      "2467\n",
      "2128\n",
      "2128\n",
      "1823\n",
      "1823\n",
      "1823\n",
      "1756\n",
      "1756\n",
      "1331\n",
      "1331\n",
      "1331\n",
      "1253\n",
      "1253\n",
      "866\n",
      "866\n",
      "866\n",
      "837\n",
      "837\n",
      "553\n",
      "553\n",
      "553\n",
      "470\n",
      "470\n",
      "528\n",
      "528\n",
      "528\n",
      "448\n",
      "448\n"
     ]
    }
   ],
   "source": [
    "najvacsie_clustre = []\n",
    "for _ in range(len(nadpriemerne_indexy_tried)):\n",
    "    indexy_aktualneho_clustera = [x for x in range(len(np.array(geom.points))) if labels[x] == nadpriemerne_indexy_tried[_]]\n",
    "    if(len(indexy_aktualneho_clustera) > 0):\n",
    "        najvacsie_clustre.append(np.array(geom.points)[indexy_aktualneho_clustera])\n",
    "\n",
    "print(len(najvacsie_clustre))\n",
    "for index,cluster in enumerate(najvacsie_clustre):\n",
    "    if cluster in najvacsie_clustre[index:-1]:\n",
    "        najvacsie_clustre.remove(cluster)\n",
    "print(len(najvacsie_clustre))\n",
    "\n",
    "for cluster in najvacsie_clustre:\n",
    "    cluster = np.array(cluster)\n",
    "    print(len(cluster))\n",
    "    geom.points = o3d.utility.Vector3dVector(cluster)\n",
    "    minus_jednotky_v_triedach = True\n",
    "    while True:\n",
    "        eps = random.randint(10,200)\n",
    "        min_points = random.randint(1,20)\n",
    "        labels = np.array(geom.cluster_dbscan(eps, min_points))\n",
    "        minus_jednotky_v_triedach = labels.tolist().count(-1) > 0\n",
    "        pocet_tried = len(set(labels))\n",
    "        pocty_bodov_v_triedach = [np.count_nonzero(labels == x) for x in set(labels)]\n",
    "        #if minus_jednotky_v_triedach == False and  pocet_tried < len(cluster) // 10 and min(pocty_bodov_v_triedach) >=3:\n",
    "        if minus_jednotky_v_triedach == False and  pocet_tried < len(cluster) // 10:\n",
    "            break\n",
    "    #ODSTRAN male clustre\n",
    "    print(len(np.array(geom.points)))\n",
    "    print(len(labels))\n",
    "\n",
    "\n",
    "    outlayer_indexes = [index for index,x in enumerate(labels) if np.count_nonzero(labels ==x)<10]\n",
    "    labels = np.array([x for index,x in enumerate(labels) if index not in outlayer_indexes])\n",
    "\n",
    "\n",
    "    a = np.array(geom.points)\n",
    "    b  = np.array([x for index,x in enumerate(np.array(geom.points)) if index not in outlayer_indexes])\n",
    "    geom.points = o3d.utility.Vector3dVector(b)\n",
    "    print(len(np.array(geom.points)))\n",
    "    print(len(labels))\n",
    "\n",
    "    for label in labels:\n",
    "        if label == -1:\n",
    "            random_colors.append([0,0,0])\n",
    "        else:    \n",
    "            random_colors.append([random.random()*0.8 +0.2,random.random()*0.8 +0.2,random.random()*0.8 +0.2])\n",
    "    colors = [random_colors[x] for x in labels]\n",
    "    geom.colors = o3d.utility.Vector3dVector(colors)\n",
    "    o3d.visualization.draw_geometries([geom])\n"
   ]
  },
  {
   "cell_type": "code",
   "execution_count": 576,
   "metadata": {},
   "outputs": [
    {
     "data": {
      "image/png": "[encoded data removed]",
      "text/plain": [
       "<Figure size 640x480 with 1 Axes>"
      ]
     },
     "metadata": {},
     "output_type": "display_data"
    }
   ],
   "source": [
    "# POCTY BODOV V ZHLUKOCH BEZ ZHLUKU -1\n",
    "najvacsie_po_najmensie = sorted(pocty,key=lambda x: x[1],reverse=True)\n",
    "najvacsie = najvacsie_po_najmensie[0][1]\n",
    "pocty_clustrov = np.zeros(najvacsie)\n",
    "for index,pocet in enumerate(pocty):\n",
    "   pocty_clustrov[pocet[1] -1]+=1\n",
    "#pocty_clustrov_pre_body.append((i, labels.tolist().count(i)))\n",
    "plt.figure()\n",
    "plt.plot(range(len(pocty_clustrov)),pocty_clustrov)\n",
    "plt.ylim(0,20)\n",
    "plt.show()"
   ]
  }
 ],
 "metadata": {
  "kernelspec": {
   "display_name": "flask",
   "language": "python",
   "name": "python3"
  },
  "language_info": {
   "codemirror_mode": {
    "name": "ipython",
    "version": 3
   },
   "file_extension": ".py",
   "mimetype": "text/x-python",
   "name": "python",
   "nbconvert_exporter": "python",
   "pygments_lexer": "ipython3",
   "version": "3.9.13"
  },
  "orig_nbformat": 4
 },
 "nbformat": 4,
 "nbformat_minor": 2
}
