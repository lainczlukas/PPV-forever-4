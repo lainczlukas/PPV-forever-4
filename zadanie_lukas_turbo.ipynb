{
 "cells": [
  {
   "cell_type": "code",
   "execution_count": 5,
   "metadata": {},
   "outputs": [],
   "source": [
    "import matplotlib.pyplot as plt\n",
    "import numpy as np\n",
    "import open3d as o3d\n",
    "import laspy\n",
    "\n",
    "import random\n",
    "import math"
   ]
  },
  {
   "cell_type": "code",
   "execution_count": 6,
   "metadata": {},
   "outputs": [],
   "source": [
    "# GET GROUND HEIGHT\n",
    "\n",
    "las = laspy.read('data/banska4.las')\n",
    "ground_data = las[las.classification == 2] \n",
    "points_data = np.stack([ground_data.Z], axis = 0).transpose((1,0))\n",
    "\n",
    "points_sum = 0\n",
    "data_min = min(points_data)\n",
    "\n",
    "for i in range(len(points_data)):\n",
    "    points_sum += points_data[i][0] - data_min[0]\n",
    "\n",
    "avg_ground_height = math.floor(points_sum / len(points_data) + data_min[0])"
   ]
  },
  {
   "cell_type": "code",
   "execution_count": 7,
   "metadata": {},
   "outputs": [],
   "source": [
    "# GET TREE EPS\n",
    "\n",
    "tree_data = las[las.classification == 5]\n",
    "points_data = np.stack([tree_data.Z], axis = 0).transpose((1,0))\n",
    "\n",
    "points_data = sorted(points_data, key=lambda x: x[0], reverse=True)\n",
    "points_data = points_data[:100]\n",
    "\n",
    "points_sum = 0\n",
    "data_min = min(points_data)\n",
    "\n",
    "for i in range(len(points_data)):\n",
    "    points_sum += points_data[i][0] - data_min[0]\n",
    "\n",
    "avg_tree_height = math.floor(points_sum / len(points_data) + data_min[0])\n",
    "tree_eps = (avg_tree_height - avg_ground_height) // 4"
   ]
  },
  {
   "cell_type": "code",
   "execution_count": 22,
   "metadata": {},
   "outputs": [
    {
     "name": "stdout",
     "output_type": "stream",
     "text": [
      "{0, 1, 2, 3, 4, 5, 6, 7, 8, 9, 10, 11, 12, 13, 14, 15, 16, 17, 18, 19, 20, 21, 22, 23, 24, 25, 26, 27, 28, 29, 30, 31, 32, 33, 34, 35, 36, 37, 38, 39, -1}\n"
     ]
    }
   ],
   "source": [
    "# FIRST CLUSTERING\n",
    "\n",
    "points_data = np.stack([tree_data.X,tree_data.Y,tree_data.Z], axis = 0).transpose((1,0))\n",
    "geom = o3d.geometry.PointCloud()\n",
    "geom.points = o3d.utility.Vector3dVector(points_data)\n",
    "geom = geom.remove_radius_outlier(3,1000)[0]\n",
    "\n",
    "labels = np.array(geom.cluster_dbscan(tree_eps, 6))\n",
    "random_colors = []\n",
    "for label in labels:\n",
    "    if label == -1:\n",
    "        random_colors.append([0,0,0])\n",
    "    else:    \n",
    "        random_colors.append([random.random()*0.8 +0.2,random.random()*0.8 +0.2,random.random()*0.8 +0.2])\n",
    "colors = [random_colors[x] for x in labels]\n",
    "geom.colors = o3d.utility.Vector3dVector(colors)\n",
    "o3d.visualization.draw_geometries([geom])"
   ]
  },
  {
   "cell_type": "code",
   "execution_count": 23,
   "metadata": {},
   "outputs": [
    {
     "name": "stdout",
     "output_type": "stream",
     "text": [
      "{0, 1, 2, 3, 4, 5, 6, 7, 8, 9, 10, 11, 12, 13, 14, 15, 16, 17, 18, 19, 20, 21, 22, 23, 24, 25, 26, 27, 28, 29, 30, 31, 32, 33, 34, 35, 36, 37, 38, 39, -1}\n"
     ]
    }
   ],
   "source": [
    "# GET SIZE OF EACH CLUSTER\n",
    "\n",
    "cluster_sizes = []\n",
    "for i in set(labels):\n",
    "   cluster_sizes.append((i, labels.tolist().count(i)))\n",
    "#plt.figure()\n",
    "#plt.plot([x for x in range(max(labels)+2)],[x[1] for x in cluster_sizes])\n",
    "#plt.show()"
   ]
  },
  {
   "cell_type": "code",
   "execution_count": 28,
   "metadata": {},
   "outputs": [],
   "source": [
    "# GET SEPARATE WELL AND SHITTY CLUSTERED POINTS WITH LABELS\n",
    "\n",
    "clusters_sorted = sorted(cluster_sizes,key=lambda x: x[1],reverse=True)\n",
    "clusters_sizes_sorted = [x[1] for x in clusters_sorted]\n",
    "avg_cluster_size = sum(clusters_sizes_sorted) / len(clusters_sizes_sorted)\n",
    "\n",
    "well_clustered_points = []\n",
    "well_clustered_labels = []\n",
    "\n",
    "shitty_clustered_points = []\n",
    "shitty_clustered_labels = []\n",
    "\n",
    "all_points = np.asarray(geom.points)\n",
    "\n",
    "for i in range(len(all_points)):\n",
    "    for cluster in clusters_sorted:\n",
    "        if labels[i] == cluster[0]:\n",
    "            if cluster[1] > avg_cluster_size * 5:\n",
    "                shitty_clustered_points.append(all_points[i])\n",
    "                shitty_clustered_labels.append(labels[i])\n",
    "            else:\n",
    "                well_clustered_points.append(all_points[i])\n",
    "                well_clustered_labels.append(labels[i])         \n",
    "\n",
    "\n",
    "pointcloud_final = o3d.geometry.PointCloud()\n",
    "pointcloud_final.points = o3d.utility.Vector3dVector(well_clustered_points)\n",
    "#o3d.visualization.draw_geometries([pointcloud_final])\n"
   ]
  }
 ],
 "metadata": {
  "kernelspec": {
   "display_name": "pytorch",
   "language": "python",
   "name": "python3"
  },
  "language_info": {
   "codemirror_mode": {
    "name": "ipython",
    "version": 3
   },
   "file_extension": ".py",
   "mimetype": "text/x-python",
   "name": "python",
   "nbconvert_exporter": "python",
   "pygments_lexer": "ipython3",
   "version": "3.8.12"
  },
  "orig_nbformat": 4
 },
 "nbformat": 4,
 "nbformat_minor": 2
}
