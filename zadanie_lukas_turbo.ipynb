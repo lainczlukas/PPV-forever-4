{
 "cells": [
  {
   "cell_type": "code",
   "execution_count": null,
   "metadata": {},
   "outputs": [],
   "source": [
    "import matplotlib.pyplot as plt\n",
    "import numpy as np\n",
    "import open3d as o3d\n",
    "import laspy\n",
    "\n",
    "import random\n",
    "import math"
   ]
  },
  {
   "cell_type": "code",
   "execution_count": null,
   "metadata": {},
   "outputs": [],
   "source": [
    "# GET GROUND HEIGHT\n",
    "\n",
    "las = laspy.read('data/banska4.las')\n",
    "ground_data = las[las.classification == 2] \n",
    "points_data = np.stack([ground_data.Z], axis = 0).transpose((1,0))\n",
    "\n",
    "points_sum = 0\n",
    "data_min = min(points_data)\n",
    "\n",
    "for i in range(len(points_data)):\n",
    "    points_sum += points_data[i][0] - data_min[0]\n",
    "\n",
    "avg_ground_height = math.floor(points_sum / len(points_data) + data_min[0])"
   ]
  },
  {
   "cell_type": "code",
   "execution_count": null,
   "metadata": {},
   "outputs": [],
   "source": [
    "# GET TREE EPS\n",
    "\n",
    "tree_data = las[las.classification == 5]\n",
    "points_data = np.stack([tree_data.Z], axis = 0).transpose((1,0))\n",
    "\n",
    "points_data = sorted(points_data, key=lambda x: x[0], reverse=True)\n",
    "points_data = points_data[:100]\n",
    "\n",
    "points_sum = 0\n",
    "data_min = min(points_data)\n",
    "\n",
    "for i in range(len(points_data)):\n",
    "    points_sum += points_data[i][0] - data_min[0]\n",
    "\n",
    "avg_tree_height = math.floor(points_sum / len(points_data) + data_min[0])\n",
    "tree_eps = (avg_tree_height - avg_ground_height) // 4"
   ]
  },
  {
   "cell_type": "code",
   "execution_count": 64,
   "metadata": {},
   "outputs": [],
   "source": [
    "# FIRST CLUSTERING\n",
    "\n",
    "points_data = np.stack([tree_data.X,tree_data.Y,tree_data.Z], axis = 0).transpose((1,0))\n",
    "geom = o3d.geometry.PointCloud()\n",
    "geom.points = o3d.utility.Vector3dVector(points_data)\n",
    "geom = geom.remove_radius_outlier(3,1000)[0]\n",
    "\n",
    "labels = np.array(geom.cluster_dbscan(tree_eps, 6))\n",
    "random_colors = []\n",
    "for label in labels:\n",
    "    if label == -1:\n",
    "        random_colors.append([0,0,0])\n",
    "    else:    \n",
    "        random_colors.append([random.random()*0.8 +0.2,random.random()*0.8 +0.2,random.random()*0.8 +0.2])\n",
    "colors = [random_colors[x] for x in labels]\n",
    "geom.colors = o3d.utility.Vector3dVector(colors)\n",
    "o3d.visualization.draw_geometries([geom])"
   ]
  },
  {
   "cell_type": "code",
   "execution_count": null,
   "metadata": {},
   "outputs": [],
   "source": [
    "# GET SIZE OF EACH CLUSTER\n",
    "\n",
    "cluster_sizes = []\n",
    "for i in set(labels):\n",
    "   cluster_sizes.append((i, labels.tolist().count(i)))\n",
    "#plt.figure()\n",
    "#plt.plot([x for x in range(max(labels)+2)],[x[1] for x in cluster_sizes])\n",
    "#plt.show()"
   ]
  },
  {
   "cell_type": "code",
   "execution_count": 39,
   "metadata": {},
   "outputs": [],
   "source": [
    "# SEPARATE WELL AND SHITTY CLUSTERED POINTS WITH LABELS\n",
    "\n",
    "clusters_sorted = sorted(cluster_sizes,key=lambda x: x[1],reverse=True)\n",
    "clusters_sizes_sorted = [x[1] for x in clusters_sorted]\n",
    "avg_cluster_size = sum(clusters_sizes_sorted) / len(clusters_sizes_sorted)\n",
    "\n",
    "well_clustered_points = []\n",
    "well_clustered_labels = []\n",
    "\n",
    "shitty_clustered_points = []\n",
    "shitty_clustered_labels = []\n",
    "\n",
    "all_points = np.asarray(geom.points)\n",
    "\n",
    "for i in range(len(all_points)):\n",
    "    for cluster in clusters_sorted:\n",
    "        if labels[i] == cluster[0]:\n",
    "            if cluster[1] > avg_cluster_size * 3:\n",
    "                shitty_clustered_points.append(all_points[i])\n",
    "                shitty_clustered_labels.append(labels[i])\n",
    "            else:\n",
    "                well_clustered_points.append(all_points[i])\n",
    "                well_clustered_labels.append(labels[i])         \n",
    "\n",
    "\n",
    "pointcloud_final = o3d.geometry.PointCloud()\n",
    "pointcloud_final.points = o3d.utility.Vector3dVector(well_clustered_points)\n",
    "o3d.visualization.draw_geometries([pointcloud_final])"
   ]
  },
  {
   "cell_type": "code",
   "execution_count": 79,
   "metadata": {},
   "outputs": [
    {
     "name": "stdout",
     "output_type": "stream",
     "text": [
      "[(0, 49), (1, 12), (2, 8), (3, 9), (4, 8), (5, 25), (6, 22), (7, 9), (8, 48), (9, 25), (10, 13), (11, 14), (12, 7), (13, 8), (14, 16), (15, 12), (16, 6), (17, 40), (18, 40), (19, 31), (20, 10), (21, 14), (22, 12), (23, 21), (24, 183), (25, 11), (26, 8), (27, 45), (28, 138), (29, 57), (30, 133), (31, 32), (32, 133), (-1, 278)]\n",
      "1477\n",
      "[(0, 1509), (1, 21), (2, 74), (-1, 67)]\n",
      "1671\n",
      "[(0, 10), (1, 12), (2, 13), (3, 23), (4, 34), (5, 52), (6, 10), (7, 12), (8, 8), (9, 18), (10, 17), (11, 21), (12, 30), (13, 303), (14, 15), (15, 44), (16, 9), (17, 37), (18, 13), (-1, 128)]\n",
      "809\n"
     ]
    }
   ],
   "source": [
    "\n",
    "big_cluster = o3d.geometry.PointCloud()\n",
    "\n",
    "for label in set(shitty_clustered_labels):\n",
    "    one_shitty_cluster_points = []\n",
    "    for i in range(len(shitty_clustered_points)):\n",
    "        if shitty_clustered_labels[i] == label:\n",
    "            one_shitty_cluster_points.append(shitty_clustered_points[i])\n",
    "    \n",
    "    big_cluster.points = o3d.utility.Vector3dVector(one_shitty_cluster_points)\n",
    "    labels_round_2 = np.array(big_cluster.cluster_dbscan(tree_eps/2, 8))\n",
    "\n",
    "    cluster_sizes2 = []\n",
    "    for i in set(labels_round_2):\n",
    "        cluster_sizes2.append((i, labels_round_2.tolist().count(i)))\n",
    "\n",
    "    random_colors2 = []\n",
    "    for l in labels_round_2:\n",
    "        if l == -1:\n",
    "            random_colors2.append([0,0,0])\n",
    "        else:    \n",
    "            random_colors2.append([random.random()*0.8 +0.2,random.random()*0.8 +0.2,random.random()*0.8 +0.2])\n",
    "    colors2 = [random_colors2[x] for x in labels_round_2]\n",
    "    big_cluster.colors = o3d.utility.Vector3dVector(colors2)\n",
    "\n",
    "    o3d.visualization.draw_geometries([big_cluster])\n",
    "\n"
   ]
  }
 ],
 "metadata": {
  "kernelspec": {
   "display_name": "pytorch",
   "language": "python",
   "name": "python3"
  },
  "language_info": {
   "codemirror_mode": {
    "name": "ipython",
    "version": 3
   },
   "file_extension": ".py",
   "mimetype": "text/x-python",
   "name": "python",
   "nbconvert_exporter": "python",
   "pygments_lexer": "ipython3",
   "version": "3.8.12"
  },
  "orig_nbformat": 4
 },
 "nbformat": 4,
 "nbformat_minor": 2
}
