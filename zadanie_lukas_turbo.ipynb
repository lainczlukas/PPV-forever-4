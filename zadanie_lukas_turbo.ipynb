{
 "cells": [
  {
   "cell_type": "code",
   "execution_count": 9,
   "metadata": {},
   "outputs": [],
   "source": [
    "import matplotlib.pyplot as plt\n",
    "import numpy as np\n",
    "import open3d as o3d\n",
    "import laspy\n",
    "\n",
    "import random\n",
    "import math"
   ]
  },
  {
   "cell_type": "code",
   "execution_count": 10,
   "metadata": {},
   "outputs": [],
   "source": [
    "# GET GROUND HEIGHT\n",
    "\n",
    "las = laspy.read('data/banska4.las')\n",
    "ground_data = las[las.classification == 2] \n",
    "points_data = np.stack([ground_data.Z], axis = 0).transpose((1,0))\n",
    "\n",
    "points_sum = 0\n",
    "data_min = min(points_data)\n",
    "\n",
    "for i in range(len(points_data)):\n",
    "    points_sum += points_data[i][0] - data_min[0]\n",
    "\n",
    "avg_ground_height = math.floor(points_sum / len(points_data) + data_min[0])"
   ]
  },
  {
   "cell_type": "code",
   "execution_count": 11,
   "metadata": {},
   "outputs": [],
   "source": [
    "# GET TREE EPS\n",
    "\n",
    "tree_data = las[las.classification == 5]\n",
    "points_data = np.stack([tree_data.Z], axis = 0).transpose((1,0))\n",
    "\n",
    "points_data = sorted(points_data, key=lambda x: x[0], reverse=True)\n",
    "points_data = points_data[:100]\n",
    "\n",
    "points_sum = 0\n",
    "data_min = min(points_data)\n",
    "\n",
    "for i in range(len(points_data)):\n",
    "    points_sum += points_data[i][0] - data_min[0]\n",
    "\n",
    "avg_tree_height = math.floor(points_sum / len(points_data) + data_min[0])\n",
    "tree_eps = (avg_tree_height - avg_ground_height) // 4"
   ]
  },
  {
   "cell_type": "code",
   "execution_count": 12,
   "metadata": {},
   "outputs": [],
   "source": [
    "# FIRST CLUSTERING\n",
    "\n",
    "points_data = np.stack([tree_data.X,tree_data.Y,tree_data.Z], axis = 0).transpose((1,0))\n",
    "geom = o3d.geometry.PointCloud()\n",
    "geom.points = o3d.utility.Vector3dVector(points_data)\n",
    "geom = geom.remove_radius_outlier(3,1000)[0]\n",
    "\n",
    "labels = np.array(geom.cluster_dbscan(tree_eps, 6))\n",
    "random_colors = []\n",
    "for label in labels:\n",
    "    if label == -1:\n",
    "        random_colors.append([0,0,0])\n",
    "    else:    \n",
    "        random_colors.append([random.random()*0.8 +0.2,random.random()*0.8 +0.2,random.random()*0.8 +0.2])\n",
    "colors = [random_colors[x] for x in labels]\n",
    "geom.colors = o3d.utility.Vector3dVector(colors)\n",
    "o3d.visualization.draw_geometries([geom])"
   ]
  },
  {
   "cell_type": "code",
   "execution_count": 13,
   "metadata": {},
   "outputs": [],
   "source": [
    "# GET SIZE OF EACH CLUSTER\n",
    "\n",
    "cluster_sizes = []\n",
    "for i in set(labels):\n",
    "   cluster_sizes.append((i, labels.tolist().count(i)))\n",
    "#plt.figure()\n",
    "#plt.plot([x for x in range(max(labels)+2)],[x[1] for x in cluster_sizes])\n",
    "#plt.show()"
   ]
  },
  {
   "cell_type": "code",
   "execution_count": 14,
   "metadata": {},
   "outputs": [],
   "source": [
    "# SEPARATE WELL AND SHITTY CLUSTERED POINTS WITH LABELS\n",
    "\n",
    "clusters_sorted = sorted(cluster_sizes,key=lambda x: x[1],reverse=True)\n",
    "clusters_sizes_sorted = [x[1] for x in clusters_sorted]\n",
    "avg_cluster_size = sum(clusters_sizes_sorted) / len(clusters_sizes_sorted)\n",
    "\n",
    "well_clustered_points = []\n",
    "well_clustered_labels = []\n",
    "bad_clustered_points = []\n",
    "bad_clustered_labels = []\n",
    "all_points = np.asarray(geom.points)\n",
    "\n",
    "\n",
    "for i in range(len(all_points)):\n",
    "    for cluster in clusters_sorted:\n",
    "        \"\"\"\n",
    "            For each point, find cluster of point. \n",
    "            If the cluster is smaller than 3*avereage_cluster_size, than put point to well separated part of dataset. \n",
    "            If the cluster is bigger, put the point to bad separated part\n",
    "        \"\"\"\n",
    "        if labels[i] == cluster[0]:\n",
    "            if cluster[1] > avg_cluster_size * 3:\n",
    "                bad_clustered_points.append(all_points[i])\n",
    "                bad_clustered_labels.append(labels[i])\n",
    "            else:\n",
    "                well_clustered_points.append(all_points[i])\n",
    "                well_clustered_labels.append(labels[i])         \n",
    "\n",
    "pointcloud_final = o3d.geometry.PointCloud()\n",
    "pointcloud_final.points = o3d.utility.Vector3dVector(bad_clustered_points)\n",
    "o3d.visualization.draw_geometries([pointcloud_final])"
   ]
  },
  {
   "cell_type": "code",
   "execution_count": 15,
   "metadata": {},
   "outputs": [],
   "source": [
    "# 2ND CLUSTERING + APPENDING TO WELL CLUSTERED POINTS\n",
    "\n",
    "big_cluster = o3d.geometry.PointCloud()\n",
    "\n",
    "\"\"\"For each bit cluster\"\"\"\n",
    "for label in set(bad_clustered_labels):\n",
    "    points_of_one_bad_cluster = []\n",
    "    \"\"\"Create list of all points of one big cluster\"\"\"\n",
    "    for i in range(len(bad_clustered_points)):\n",
    "        if bad_clustered_labels[i] == label:\n",
    "            points_of_one_bad_cluster.append(bad_clustered_points[i])\n",
    "\n",
    "    big_cluster.points = o3d.utility.Vector3dVector(points_of_one_bad_cluster)\n",
    "    \"\"\"\"DBSCAN one big cluster\"\"\"\n",
    "    labels_round_2 = np.array(big_cluster.cluster_dbscan(tree_eps/2, 8))\n",
    "\n",
    "    label_baseline = max(well_clustered_labels) + 1\n",
    "\n",
    "    \"\"\"Append DBSCANNED big cluster to well separated points/labels\"\"\"\n",
    "    for j in range(len(labels_round_2)):\n",
    "        well_clustered_points.append(points_of_one_bad_cluster[j])\n",
    "        well_clustered_labels.append(labels_round_2[j] + label_baseline)"
   ]
  },
  {
   "cell_type": "code",
   "execution_count": 16,
   "metadata": {},
   "outputs": [],
   "source": [
    "# PAINT AND VISUALIZE FINAL DATA \n",
    "\n",
    "\"\"\"TODO: PAINTING NOT WORKING PROPERLY\"\"\"\n",
    "random_colors2 = []\n",
    "for l in well_clustered_labels:\n",
    "    if l == -1:\n",
    "        random_colors2.append([0,0,0])\n",
    "    else:\n",
    "        random_colors2.append([random.random()*0.8 +0.2,random.random()*0.8 +0.2,random.random()*0.8 +0.2])\n",
    "colors2 = [random_colors2[x] for x in labels]\n",
    "\n",
    "pointcloud_final.points = o3d.utility.Vector3dVector(well_clustered_points)\n",
    "pointcloud_final.colors = o3d.utility.Vector3dVector(colors2)\n",
    "o3d.visualization.draw_geometries([pointcloud_final])"
   ]
  }
 ],
 "metadata": {
  "kernelspec": {
   "display_name": "pytorch",
   "language": "python",
   "name": "python3"
  },
  "language_info": {
   "codemirror_mode": {
    "name": "ipython",
    "version": 3
   },
   "file_extension": ".py",
   "mimetype": "text/x-python",
   "name": "python",
   "nbconvert_exporter": "python",
   "pygments_lexer": "ipython3",
   "version": "3.8.12"
  },
  "orig_nbformat": 4
 },
 "nbformat": 4,
 "nbformat_minor": 2
}
